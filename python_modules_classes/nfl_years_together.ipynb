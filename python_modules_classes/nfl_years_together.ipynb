{
 "cells": [
  {
   "cell_type": "code",
   "execution_count": 29,
   "metadata": {
    "collapsed": true
   },
   "outputs": [],
   "source": [
    "import pandas as pd\n",
    "\n",
    "nfl2009 = pd.read_csv('nfl2009.csv')\n",
    "nfl2010 = pd.read_csv('nfl2010.csv')\n",
    "nfl2011 = pd.read_csv('nfl2011.csv')\n",
    "nfl2012 = pd.read_csv('nfl2012.csv')\n",
    "nfl2013 = pd.read_csv('nfl2013.csv')"
   ]
  },
  {
   "cell_type": "code",
   "execution_count": 30,
   "metadata": {
    "collapsed": true
   },
   "outputs": [],
   "source": [
    "nfl2009['Year'] = 2009\n",
    "nfl2010['Year'] = 2010\n",
    "nfl2011['Year'] = 2011\n",
    "nfl2012['Year'] = 2012\n",
    "nfl2013['Year'] = 2013"
   ]
  },
  {
   "cell_type": "code",
   "execution_count": 31,
   "metadata": {
    "collapsed": false
   },
   "outputs": [],
   "source": [
    "nfl2009.to_csv('nfl2009.csv', index =False)\n",
    "nfl2010.to_csv('nfl2010.csv', index =False)\n",
    "nfl2011.to_csv('nfl2011.csv', index =False)\n",
    "nfl2012.to_csv('nfl2012.csv', index =False)\n",
    "nfl2013.to_csv('nfl2013.csv', index =False)"
   ]
  },
  {
   "cell_type": "code",
   "execution_count": 32,
   "metadata": {
    "collapsed": false
   },
   "outputs": [],
   "source": [
    "nfl = open('nfl.csv', 'a')\n",
    "\n",
    "for row in open('nfl2009.csv'):\n",
    "    nfl.write(row)\n",
    "    \n",
    "for num in range(10,14):\n",
    "    file =open('nfl20'+str(num)+'.csv')\n",
    "    #file.next()\n",
    "    for line in file:\n",
    "        nfl.write(line)\n",
    "    file.close()\n",
    "nfl.close()"
   ]
  },
  {
   "cell_type": "code",
   "execution_count": 33,
   "metadata": {
    "collapsed": false
   },
   "outputs": [],
   "source": [
    "nfl = pd.read_csv('nfl.csv')"
   ]
  }
 ],
 "metadata": {
  "anaconda-cloud": {},
  "kernelspec": {
   "display_name": "Python [Root]",
   "language": "python",
   "name": "Python [Root]"
  },
  "language_info": {
   "codemirror_mode": {
    "name": "ipython",
    "version": 3
   },
   "file_extension": ".py",
   "mimetype": "text/x-python",
   "name": "python",
   "nbconvert_exporter": "python",
   "pygments_lexer": "ipython3",
   "version": "3.5.2"
  }
 },
 "nbformat": 4,
 "nbformat_minor": 0
}
