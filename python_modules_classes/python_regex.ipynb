{
 "cells": [
  {
   "cell_type": "markdown",
   "metadata": {},
   "source": [
    "## Introduction\n",
    "Data scientists often need to parse strings to extract important information. Suppose we have manually-entered data that includes dates, and need to extract the years from those dates. The dates may look something like this:\n",
    "\n",
    "- \"Jan 17, 2012\"\n",
    "- \"9/22/2005\"\n",
    "- \"Spring 2007\"\n",
    "- \"New Year's Eve 1999\"\n",
    "\n",
    "All of these strings contain the information we need, but in very different formats. If we try to split the strings, what character would we split them on? In the resulting lists, which element would contain the year? We can handle a problem like this with regular expressions.\n",
    "\n",
    "A regular expression (regex) is a sequence of characters that describes a search pattern. We can use regular expressions to search for and extract data.\n",
    "\n",
    "In practice, we say that strings match a regular expression if the pattern exists anywhere within those strings (as substrings). The simplest example of a regular expression is an ordinary sequence of characters that we specify. We say that any string containing that sequence of characters, adjacent and in the same exact order, matches the regular expression."
   ]
  },
  {
   "cell_type": "code",
   "execution_count": 2,
   "metadata": {
    "collapsed": true
   },
   "outputs": [],
   "source": [
    "# assign to the variable regex a regular expression that's four characters \n",
    "# long and matches every string in the list strings.\n",
    "strings = [\"data science\", \"big data\", \"metadata\"]\n",
    "regex = \"data\""
   ]
  },
  {
   "cell_type": "markdown",
   "metadata": {},
   "source": [
    "## Wildcards In Regular Expressions\n",
    "We've seen that we can use regular expressions to find strings containing a simple pattern, but they can match much more complex patterns.\n",
    "\n",
    "There are a number of special characters we can use with regular expressions to change the way a pattern is interpreted. In Python, we use the re module to work with regular expressions. The module's documentation provides a list of these special characters.\n",
    "\n",
    "For instance, we use the special character \".\" to indicate that any character can be put in its place."
   ]
  },
  {
   "cell_type": "code",
   "execution_count": 3,
   "metadata": {
    "collapsed": true
   },
   "outputs": [],
   "source": [
    "# assign a regular expression that is three characters long and \n",
    "# matches every string in strings to the variable regex.\n",
    "strings = [\"bat\", \"robotics\", \"megabyte\"]\n",
    "regex = \"b.t\""
   ]
  },
  {
   "cell_type": "markdown",
   "metadata": {},
   "source": [
    "## Searching The Beginnings And Endings Of Strings\n",
    "We can use the caret symbol (\"^\") to match the beginning of a string, and the dollar sign (\"$\") to match the end of a string.\n",
    "\n",
    "\"^a\" will match all strings that start with \"a\".\n",
    "\n",
    "\"a$\" will match all strings that end with \"a\".\n",
    "\n",
    "We can use any combination of special characters in a regex. Let's combine what we've learned so far to create some more advanced expressions."
   ]
  },
  {
   "cell_type": "code",
   "execution_count": 4,
   "metadata": {
    "collapsed": true
   },
   "outputs": [],
   "source": [
    "# assign a regular expression that's seven characters long and matches\n",
    "# every string in strings (except for bad_string) to the variable regex.\n",
    "strings = [\"better not put too much\", \"butter in the\", \"batter\"]\n",
    "bad_string = \"We also wouldn't want it to be bitter\"\n",
    "regex = \"^b.tter\""
   ]
  },
  {
   "cell_type": "markdown",
   "metadata": {},
   "source": [
    "## Introduction To The AskReddit Data Set\n",
    "Reddit is a content and community website where users can submit links, text posts, and other types of content to groups of people with similar interests. These groups are called subreddits, and each one specializes in a particular topic.\n",
    "\n",
    "For example, AskReddit is a popular subreddit where you can pose questions to the entire Reddit community. Users answer the questions by commenting on them.\n",
    "\n",
    "In this mission, we'll be working with a data set containing the top 1,000 questions users posted to AskReddit in 2015. Reddit user P_S_Laplace created the data set, which has five columns that appear in the following order:\n",
    "\n",
    "- Title -- The title of the post\n",
    "- Score -- The number of upvotes the post received\n",
    "- Time -- When the post was posted\n",
    "- Gold -- How much Reddit Gold users gave the post\n",
    "- NumComs -- The number of comments the post received\n",
    "- NSFW -- If the post is safe for work or not"
   ]
  },
  {
   "cell_type": "markdown",
   "metadata": {},
   "source": [
    "## Reading And Printing The Data Set\n",
    "Let's use the csv module to read and print our data file, \"askreddit_2015.csv\". Recall that we can use the csv module by performing the following steps:\n",
    "\n",
    "- Import csv.\n",
    "- Open the file that contains our CSV data in 'r' mode.\n",
    "- Call the csv.reader() function with the file object as input.\n",
    "- Convert the result to a list."
   ]
  },
  {
   "cell_type": "code",
   "execution_count": 23,
   "metadata": {
    "collapsed": false
   },
   "outputs": [
    {
     "name": "stdout",
     "output_type": "stream",
     "text": [
      "['What\\'s your internet \"white whale\", something you\\'ve been searching for years to find with no luck?', '11510', '1433213314.0', '1', '26195', 'False']\n",
      "[\"What's your favorite video that is 10 seconds or less?\", '8656', '1434205517.0', '4', '8479', 'False']\n",
      "['What are some interesting tests you can take to find out about yourself?', '8480', '1443409636.0', '1', '4055', 'False']\n",
      "[\"PhD's of Reddit. What is a dumbed down summary of your thesis?\", '7927', '1440188623.0', '0', '13201', 'False']\n",
      "['What is cool to be good at, yet uncool to be REALLY good at?', '7711', '1440082910.0', '0', '20325', 'False']\n",
      "['[Serious] Redditors currently in a relationship, besides dinner and a movie, what are your favorite activities for date night?', '7598', '1439993280.0', '2', '5389', 'False']\n",
      "[\"Parents of Reddit, what's something that your kid has done that you pretended to be angry about but secretly impressed or amused you?\", '7553', '1439161809.0', '0', '11520', 'False']\n",
      "['What is a good subreddit to binge read the All Time Top Posts of?', '7498', '1438822288.0', '0', '2780', 'False']\n",
      "['What would the person who named Walkie Talkies have named other items?', '7501', '1447904351.0', '4', '6720', 'False']\n",
      "[\"People who grew up in a different socioeconomic class as your significant others, what are the notable differences you've noticed and how does it affect your relationship (if at all)?\", '7419', '1440358069.0', '0', '8603', 'False']\n"
     ]
    }
   ],
   "source": [
    "import csv\n",
    "f = open(\"askreddit_2015.csv\", 'r')\n",
    "csvreader = csv.reader(f)\n",
    "posts_with_header = list(csvreader)\n",
    "posts = posts_with_header[1:]\n",
    "for post in posts[:10]:\n",
    "    print(post)"
   ]
  },
  {
   "cell_type": "markdown",
   "metadata": {},
   "source": [
    "## Counting Simple Matches In The Data Set With Re()\n",
    "We mentioned the re module earlier, and now we'll begin to use it in our code. One useful function the module provides is re.search.\n",
    "\n",
    "With re.search(regex, string), we can check whether string is a match for regex. If it is, the expression will return a match object. If it isn't, it will return None. For now, we won't worry about returning the actual matches - we'll just compare the result to None to see whether we have a match or not.\n",
    "\n",
    "\"\"\n",
    "\n",
    "if re.search(\"needle\", \"haystack\") is not None:\n",
    "\n",
    "    print(\"We found it!\")\n",
    "    \n",
    "else:\n",
    "\n",
    "    print(\"Not a match\")\n",
    "\"\" \n",
    "    \n",
    "The code above will print Not a match, because \"haystack\" is not a match for the regex \"needle\".\n",
    "\n",
    "\n",
    "You may have noticed that many of the posts in our AskReddit database are directed towards particular groups of people, using phrases like \"Soldiers of Reddit\". These types of posts are common, and always follow a similar format. We can use regular expressions to count how many of them are in the top 1,000."
   ]
  },
  {
   "cell_type": "code",
   "execution_count": 24,
   "metadata": {
    "collapsed": false
   },
   "outputs": [],
   "source": [
    "import re\n",
    "of_reddit_count = 0\n",
    "for row in posts:\n",
    "    if re.search(\"of Reddit\", row[0]) is not None:\n",
    "        of_reddit_count += 1"
   ]
  },
  {
   "cell_type": "code",
   "execution_count": 25,
   "metadata": {
    "collapsed": false
   },
   "outputs": [
    {
     "data": {
      "text/plain": [
       "88"
      ]
     },
     "execution_count": 25,
     "metadata": {},
     "output_type": "execute_result"
    }
   ],
   "source": [
    "of_reddit_count"
   ]
  },
  {
   "cell_type": "markdown",
   "metadata": {},
   "source": [
    "## Using Square Brackets To Match Multiple Characters\n",
    "\n",
    "If you look at the data set closely, you may notice that some posts use \"of Reddit\", and others use \"of reddit\". While both versions have the same format, the capitalization of \"Reddit\" is different. We can account for this inconsistency with square brackets. We use square brackets in a regex to indicate that any character within them can fill the space.\n",
    "\n",
    "For example, the regex \"[bcr]at\" would match the substrings \"bat\", \"cat\", and \"rat\", but nothing else. We indicate that the first character in the regex can be either \"b\", \"c\" or \"r\"."
   ]
  },
  {
   "cell_type": "code",
   "execution_count": 26,
   "metadata": {
    "collapsed": false
   },
   "outputs": [],
   "source": [
    "# use square bracket notation to make the code account for both capitalizations of \"Reddit\"\n",
    "# and count how many posts contain \"of Reddit\" or \"of reddit\" in the title.\n",
    "# assign the resulting count to of_reddit_count.\n",
    "of_reddit_count_old = 0\n",
    "for row in posts:\n",
    "    if re.search(\"of Reddit\", row[0]) is not None:\n",
    "        of_reddit_count_old += 1\n",
    "of_reddit_count = 0\n",
    "for row in posts:\n",
    "    if re.search(\"of [Rr]eddit\", row[0]) is not None:\n",
    "        of_reddit_count += 1"
   ]
  },
  {
   "cell_type": "code",
   "execution_count": 27,
   "metadata": {
    "collapsed": false
   },
   "outputs": [
    {
     "data": {
      "text/plain": [
       "88"
      ]
     },
     "execution_count": 27,
     "metadata": {},
     "output_type": "execute_result"
    }
   ],
   "source": [
    "of_reddit_count_old"
   ]
  },
  {
   "cell_type": "code",
   "execution_count": 28,
   "metadata": {
    "collapsed": false
   },
   "outputs": [
    {
     "data": {
      "text/plain": [
       "124"
      ]
     },
     "execution_count": 28,
     "metadata": {},
     "output_type": "execute_result"
    }
   ],
   "source": [
    "of_reddit_count"
   ]
  },
  {
   "cell_type": "markdown",
   "metadata": {},
   "source": [
    "## Escaping Special Characters\n",
    "Our data set contains a lot of posts that use the [Serious] tag. AskReddit members use this tag to indicate that they're not looking for humorous responses, and that their question should be taken seriously. We'd like to search through our data set to see how many posts have this tag, but the regex \"[Serious]\" doesn't do what we need. Since square brackets serve a special function within regular expressions, \"[Serious]\" will match any string that contains \"S\", \"e\", \"r\", etc.\n",
    "\n",
    "To deal with this sort of problem, we need to escape special characters. In regular expressions, escaping a character means indicating that you don't want the character to do anything special, and that the interpreter should treat it just like any other character. We use the backslash (\"\\\") to escape characters in a regex."
   ]
  },
  {
   "cell_type": "code",
   "execution_count": 29,
   "metadata": {
    "collapsed": true
   },
   "outputs": [],
   "source": [
    "serious_count = 0\n",
    "for row in posts:\n",
    "    if re.search(\"\\[Serious\\]\", row[0]) is not None:\n",
    "        serious_count += 1"
   ]
  },
  {
   "cell_type": "code",
   "execution_count": 30,
   "metadata": {
    "collapsed": false
   },
   "outputs": [
    {
     "data": {
      "text/plain": [
       "86"
      ]
     },
     "execution_count": 30,
     "metadata": {},
     "output_type": "execute_result"
    }
   ],
   "source": [
    "serious_count"
   ]
  },
  {
   "cell_type": "markdown",
   "metadata": {},
   "source": [
    "## Combining Escaped Characters And Multiple Matches\n",
    "Some people tag serious posts as \"[Serious]\", and others as \"[serious]\". We should account for both capitalizations."
   ]
  },
  {
   "cell_type": "code",
   "execution_count": 31,
   "metadata": {
    "collapsed": true
   },
   "outputs": [],
   "source": [
    "serious_count = 0\n",
    "for row in posts:\n",
    "    if re.search(\"\\[[Ss]erious\\]\", row[0]) is not None:\n",
    "        serious_count += 1"
   ]
  },
  {
   "cell_type": "code",
   "execution_count": 32,
   "metadata": {
    "collapsed": false
   },
   "outputs": [
    {
     "data": {
      "text/plain": [
       "98"
      ]
     },
     "execution_count": 32,
     "metadata": {},
     "output_type": "execute_result"
    }
   ],
   "source": [
    "serious_count"
   ]
  },
  {
   "cell_type": "markdown",
   "metadata": {},
   "source": [
    "## Adding More Complexity To Your Regular Expression\n",
    "On the previous cell, we saw that we can use square brackets as both special notation and escaped characters, all in the same regex. We'll be using more brackets to refine our search.\n",
    "\n",
    "In our data set, some users have tagged their posts with \"(Serious)\" or \"(serious)\", including the parentheses. Therefore, we should account for both square brackets and parentheses. We can do this by using square bracket notation, and escaping the \"[\", \"]\", \"(\", and \")\" characters with the backslash."
   ]
  },
  {
   "cell_type": "code",
   "execution_count": 35,
   "metadata": {
    "collapsed": true
   },
   "outputs": [],
   "source": [
    "serious_count = 0\n",
    "for row in posts:\n",
    "    if re.search(\"[\\[\\(][Ss]erious[\\]\\)]\", row[0]) is not None:\n",
    "        serious_count += 1"
   ]
  },
  {
   "cell_type": "code",
   "execution_count": 37,
   "metadata": {
    "collapsed": false
   },
   "outputs": [
    {
     "data": {
      "text/plain": [
       "101"
      ]
     },
     "execution_count": 37,
     "metadata": {},
     "output_type": "execute_result"
    }
   ],
   "source": [
    "serious_count"
   ]
  },
  {
   "cell_type": "markdown",
   "metadata": {},
   "source": [
    "## Combining Multiple Regular Expressions\n",
    "We should consider a post serious only if the tag occurs at the beginning or end of the title. To match titles with the tag at the beginning, we can use the \"^\" character in a regex. To match titles with the tag at the end, we can use \"$\". These characters produce two different regular expressions, and we'd like to identify all titles that match either of them.\n",
    "\n",
    "To combine regular expressions, we use the \"|\" character. For example, \"cat|dog\" would match \"catfish\" and \"hotdog\", because both of these strings match either \"cat\" or \"dog\". Similarly, we can combine our regular expressions for the serious tags with the \"|\" operator to match all titles that either begin or end with the tag."
   ]
  },
  {
   "cell_type": "code",
   "execution_count": 38,
   "metadata": {
    "collapsed": true
   },
   "outputs": [],
   "source": [
    "serious_start_count = 0\n",
    "serious_end_count = 0\n",
    "serious_count_final = 0\n",
    "for row in posts:\n",
    "    if re.search(\"^[\\[\\(][Ss]erious[\\]\\)]\", row[0]) is not None:\n",
    "        serious_start_count += 1\n",
    "    if re.search(\"[\\[\\(][Ss]erious[\\]\\)]$\", row[0]) is not None:\n",
    "        serious_end_count += 1\n",
    "    if re.search(\"^[\\[\\(][Ss]erious[\\]\\)]|[\\[\\(][Ss]erious[\\]\\)]$\", row[0]) is not None:\n",
    "        serious_count_final += 1"
   ]
  },
  {
   "cell_type": "code",
   "execution_count": 47,
   "metadata": {
    "collapsed": false
   },
   "outputs": [
    {
     "data": {
      "text/plain": [
       "84"
      ]
     },
     "execution_count": 47,
     "metadata": {},
     "output_type": "execute_result"
    }
   ],
   "source": [
    "serious_start_count "
   ]
  },
  {
   "cell_type": "code",
   "execution_count": 48,
   "metadata": {
    "collapsed": false
   },
   "outputs": [
    {
     "data": {
      "text/plain": [
       "15"
      ]
     },
     "execution_count": 48,
     "metadata": {},
     "output_type": "execute_result"
    }
   ],
   "source": [
    "serious_end_count "
   ]
  },
  {
   "cell_type": "code",
   "execution_count": 49,
   "metadata": {
    "collapsed": false
   },
   "outputs": [
    {
     "data": {
      "text/plain": [
       "99"
      ]
     },
     "execution_count": 49,
     "metadata": {},
     "output_type": "execute_result"
    }
   ],
   "source": [
    "serious_count_final"
   ]
  },
  {
   "cell_type": "markdown",
   "metadata": {},
   "source": [
    "## Using Regular Expressions To Substitute Strings\n",
    "We've looked at one way we can account for inconsistencies in data; now let's examine another approach. The re module provides a sub() function that takes the following parameters (in order):\n",
    "\n",
    "\n",
    "1. pattern - The regex to match\n",
    "2. repl    - The string that should replace the substring matches\n",
    "3. string  - The string containing the pattern we want to search\n",
    "\n",
    "If we were to call re.sub(\"yo\", \"hello\", \"yo world\"), the function will replace the \"yo\" in \"yo world\" with \"hello\", producing the result \"hello world\". If it doesn't find a pattern, the re.sub() function simply returns the original string.\n",
    "\n",
    "Let's use re.sub() to convert all serious tags to the format \"[Serious]\"."
   ]
  },
  {
   "cell_type": "code",
   "execution_count": 51,
   "metadata": {
    "collapsed": true
   },
   "outputs": [],
   "source": [
    "posts_new = []\n",
    "for row in posts:\n",
    "    row[0] = re.sub(\"[\\[\\(][Ss]erious[\\]\\)]\", \"[Serious]\", row[0])\n",
    "    posts_new.append(row)"
   ]
  },
  {
   "cell_type": "markdown",
   "metadata": {},
   "source": [
    "## Matching Years With Regular Expressions\n",
    "\n",
    "Let's return to the example from the beginning of our mission. Suppose we need to extract years from strings. An intuitive way to do this would be to match any string that contains four consecutive integers. We can indicate that we're looking for integers in a pattern by using square brackets (\"[\" and \"]\"), along with a dash (\"-\"). For example, \"[0-9]\" will match any character that falls between 0 and 9 (all of which will be one-digit integers). Similarly, \"[a-z]\" would match any lowercase letter. We can also specify smaller ranges like \"[3-5]\" or \"[d-g]\".\n",
    "\n",
    "Since we want to match four consecutive integers, our regex could be \"[0-9][0-9][0-9][0-9]\". This would work, but let's also add the condition that we only want to match years after year 999 and before year 3000 (any other four-digit numbers in a string are probably not years)."
   ]
  },
  {
   "cell_type": "code",
   "execution_count": 52,
   "metadata": {
    "collapsed": true
   },
   "outputs": [],
   "source": [
    "year_strings = []\n",
    "for string in strings:\n",
    "    if re.search(\"[1-2][0-9][0-9][0-9]\", string) is not None:\n",
    "        year_strings.append(string)"
   ]
  },
  {
   "cell_type": "markdown",
   "metadata": {},
   "source": [
    "## Repeating Characters In Regular Expressions\n",
    "On the previous screen, we used the regex \"[1-2][0-9][0-9][0-9]\", which looks a bit repetitive. Luckily, there's a better way to do it!\n",
    "\n",
    "We can use curly brackets (\"{\" and \"}\") to indicate that a pattern should repeat. To match any four-digit number, for example, we could repeat the pattern \"[0-9]\" four times by writing \"[0-9]{4}\"."
   ]
  },
  {
   "cell_type": "code",
   "execution_count": 61,
   "metadata": {
    "collapsed": false
   },
   "outputs": [],
   "source": [
    "year_strings = []\n",
    "for string in strings:\n",
    "    if re.search(\"[1-2][0-9]{3}\", string) is not None:\n",
    "        year_strings.append(string)"
   ]
  }
 ],
 "metadata": {
  "kernelspec": {
   "display_name": "Python [Root]",
   "language": "python",
   "name": "Python [Root]"
  },
  "language_info": {
   "codemirror_mode": {
    "name": "ipython",
    "version": 3
   },
   "file_extension": ".py",
   "mimetype": "text/x-python",
   "name": "python",
   "nbconvert_exporter": "python",
   "pygments_lexer": "ipython3",
   "version": "3.5.2"
  }
 },
 "nbformat": 4,
 "nbformat_minor": 0
}
