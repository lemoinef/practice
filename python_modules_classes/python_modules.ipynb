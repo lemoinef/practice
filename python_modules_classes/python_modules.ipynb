{
 "cells": [
  {
   "cell_type": "markdown",
   "metadata": {},
   "source": [
    "## Introduction To The NFL Data Set\n",
    "We'll be working with a data set that contains the results of National Football League (NFL) games. Each row in our data set represents a game. \n",
    "\n",
    "## Introduction To Modules\n",
    "A module is a collection of functions and variables that have been bundled together in one file. Modules serve three primary purposes:\n",
    "\n",
    "- Using small modules can help organize larger applications.\n",
    "- Bundling useful logic into modules helps programmers share code with one another more easily.\n",
    "- Using someone else's pre-written code can save you the trouble of having to write tedious code yourself.\n",
    "- Python comes with countless modules that programmers can use.\n",
    "\n",
    "## The CSV Module\n",
    "In previous missions, we learned how to work with CSV files by:\n",
    "\n",
    "- Opening a file\n",
    "- Reading the contents of that file into a string\n",
    "- Splitting the string on the newline character\n",
    "- Splitting each line on the comma character\n",
    "\n",
    "We can work with CSV files more easily through the csv module. This module has a reader() function that takes a file object as its argument, and returns an object that represents our data. We'll cover objects in more depth in the next mission, but for now, we'll simply convert this object to a list and use that result."
   ]
  },
  {
   "cell_type": "code",
   "execution_count": 15,
   "metadata": {
    "collapsed": false
   },
   "outputs": [],
   "source": [
    "import csv\n",
    "f = open(\"nfl.csv\", 'r')\n",
    "csvreader = csv.reader(f)\n",
    "nfl = list(csvreader)"
   ]
  },
  {
   "cell_type": "markdown",
   "metadata": {},
   "source": [
    "## Counting How Many Times A Team Won\n",
    "Now that we have a list representation of the file's contents, we can start analyzing the data. We'll begin by counting up the wins for a particular team."
   ]
  },
  {
   "cell_type": "code",
   "execution_count": 16,
   "metadata": {
    "collapsed": false
   },
   "outputs": [
    {
     "name": "stdout",
     "output_type": "stream",
     "text": [
      "18\n"
     ]
    }
   ],
   "source": [
    "patriots_wins = 0\n",
    "\n",
    "for row in nfl:\n",
    "    if row[4] == 'New England Patriots':\n",
    "        patriots_wins +=1\n",
    "print(patriots_wins)"
   ]
  },
  {
   "cell_type": "code",
   "execution_count": 17,
   "metadata": {
    "collapsed": false
   },
   "outputs": [
    {
     "data": {
      "text/plain": [
       "18"
      ]
     },
     "execution_count": 17,
     "metadata": {},
     "output_type": "execute_result"
    }
   ],
   "source": [
    "patriots_wins"
   ]
  },
  {
   "cell_type": "markdown",
   "metadata": {},
   "source": [
    "## Making A Function That Counts Wins\n",
    "Let's write a function that counts the wins for any NFL team. \n",
    "\n",
    "The def keyword signals that we're defining a function named my_func, which takes input as a parameter. The function performs a computation, probably using input somewhere along the way, to generate output. Finally, it returns output to the code that called the function."
   ]
  },
  {
   "cell_type": "code",
   "execution_count": 18,
   "metadata": {
    "collapsed": true
   },
   "outputs": [],
   "source": [
    "def nfl_wins(team):\n",
    "    count = 0\n",
    "    for row in nfl:\n",
    "        if row[4] == team:\n",
    "            count = count + 1\n",
    "    return count\n",
    "\n",
    "cowboys_wins = nfl_wins(\"Dallas Cowboys\")\n",
    "falcons_wins = nfl_wins(\"Atlanta Falcons\")"
   ]
  },
  {
   "cell_type": "code",
   "execution_count": 19,
   "metadata": {
    "collapsed": false
   },
   "outputs": [
    {
     "data": {
      "text/plain": [
       "13"
      ]
     },
     "execution_count": 19,
     "metadata": {},
     "output_type": "execute_result"
    }
   ],
   "source": [
    "cowboys_wins"
   ]
  },
  {
   "cell_type": "code",
   "execution_count": 20,
   "metadata": {
    "collapsed": false
   },
   "outputs": [
    {
     "data": {
      "text/plain": [
       "4"
      ]
     },
     "execution_count": 20,
     "metadata": {},
     "output_type": "execute_result"
    }
   ],
   "source": [
    "falcons_wins"
   ]
  }
 ],
 "metadata": {
  "kernelspec": {
   "display_name": "Python [Root]",
   "language": "python",
   "name": "Python [Root]"
  },
  "language_info": {
   "codemirror_mode": {
    "name": "ipython",
    "version": 3
   },
   "file_extension": ".py",
   "mimetype": "text/x-python",
   "name": "python",
   "nbconvert_exporter": "python",
   "pygments_lexer": "ipython3",
   "version": "3.5.2"
  }
 },
 "nbformat": 4,
 "nbformat_minor": 0
}
