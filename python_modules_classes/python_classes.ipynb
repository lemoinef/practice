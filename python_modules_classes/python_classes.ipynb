{
 "cells": [
  {
   "cell_type": "markdown",
   "metadata": {},
   "source": [
    "## NFL Data\n",
    "For this project, we'll be working with a data set containing the results of NFL games. The file includes every game from 2009-2013.\n",
    "\n",
    "Each row in our data set represents a game. The first column is for the year it took place, and the second is for the week of the season (out of 17 total weeks). The third column records the winning team, and the fourth records the losing team.\n",
    "\n",
    "## Introduction To Objects And Classes\n",
    "In the last mission, we learned how modules help us write clean and concise code. Python also has a number of other features that can organize and structure code.\n",
    "\n",
    "For example, it also supports objects. An object is a variable that has its own variables and behavior. Let's imagine we're writing an application for choosing and customizing cars. We need to represent cars in our code, and allow people to modify and interact with them. We could create a dictionary for each car, with keys like \"color\" and \"model\". However, this approach doesn't have any standardization regarding what information we should store about each car. Some cars may have a \"color\" key, while others may not. We need a consistent way to represent and interact with cars in our code. Objects can help us do this.\n",
    "\n",
    "Suppose we create an object called black_honda_accord. This object has variables like color, make, and model that help represent the car's attributes. We call these variables properties, and access them using dot notation.\n",
    "\n",
    "To create an object, we need some sort of template that tells us what properties the object should have. For example, black_honda_accord has color, make and model properties. If we want to create another car object that has this same behavior, we need a template.\n",
    "\n",
    "This is where classes come into play. A class is a template for new objects. So, if we have a Car class with color, make, and model properties, we can create many different instances of the Car class, and they will all have their own values for those properties. An instance is an object created from a template, or class. black_honda_accord is an instance of the Car class. If we wanted to create a red_toyota_camry instance, we could do so, and it would have its own color, make, and model values."
   ]
  },
  {
   "cell_type": "markdown",
   "metadata": {},
   "source": [
    "## Class Syntax\n",
    "Before we begin working with classes, let's take a look at how we define them. For a class called Car(), we'd use class Car(): to start a class definition. Inside the class, we define a special function called _ _init_ _ . This is where we define our properties.\n",
    "\n",
    "By assigning values to color, make, and model within _ _init_ _ , we indicate that we want our Car instances to have color, make, and model properties with the default values we specified. These values are appropriate for our black_honda_accord instance, but we'll have to customize them for our red_toyota_camry instance. We'll learn how to do that later in this mission.\n",
    "\n",
    "Inside our class definition, we refer to properties using self.property_name. For now, _ _init_ _ and self.property_name are just blocks of syntax you need to remember. As you progress through the mission, though, you'll learn what this syntax means, and why it's important.\n",
    "\n",
    "To create an instance of a class (in this case the Car class) we use black_honda_accord = Car(). To access the color of the instance black_honda_accord, we write black_honda_accord.color. In the following exercise, you'll use this syntax to define a class that will represent NFL teams. We'll interact with our NFL data set through this class for the duration of this mission."
   ]
  },
  {
   "cell_type": "code",
   "execution_count": 1,
   "metadata": {
    "collapsed": false
   },
   "outputs": [
    {
     "name": "stdout",
     "output_type": "stream",
     "text": [
      "black\n",
      "Tampa Bay Buccaneers\n"
     ]
    }
   ],
   "source": [
    "class Car():\n",
    "    def __init__(self):\n",
    "        self.color = \"black\"\n",
    "        self.make = \"honda\"\n",
    "        self.model = \"accord\"\n",
    "\n",
    "black_honda_accord = Car()\n",
    "\n",
    "print(black_honda_accord.color)\n",
    "class Team():\n",
    "    def __init__(self):\n",
    "        self.name = \"Tampa Bay Buccaneers\"\n",
    "\n",
    "bucs = Team()\n",
    "\n",
    "print(bucs.name)"
   ]
  },
  {
   "cell_type": "markdown",
   "metadata": {},
   "source": [
    "## Instance Methods And _ _init_ _\n",
    "In addition to properties, instances can also have behavior. We define this behavior using methods. We actually just did this on the last screen. _ _init_ _ is a special method that the Python interpreter automatically calls whenever we create an instance of a class.\n",
    "\n",
    "Recall that _ _ init _ _ takes in a self parameter. This parameter refers to the current instance, and allows us to access and add to its properties. self is passed in automatically when we call Team() (which calls _ _init_ _).\n",
    "\n",
    "We can add more parameters to _ _init_ _ , and pass them in explicitly when we call Team().\n",
    "\n",
    "We pass in the name parameter when we create an instance, and then that parameter becomes the team's name.\n",
    "\n",
    "In the Team exercise from the previous screen, for example, we set the name property to \"Tampa Bay Buccaneers\" for all new instances we create with some_team = Team().\n",
    "\n",
    "This time, let's add the name argument to our Team class's _ _init_ _ method in a way that allows us to create teams with any name."
   ]
  },
  {
   "cell_type": "code",
   "execution_count": 2,
   "metadata": {
    "collapsed": true
   },
   "outputs": [],
   "source": [
    "class Team():\n",
    "    def __init__(self, name):\n",
    "        self.name = name\n",
    "\n",
    "giants = Team(\"New York Giants\")"
   ]
  },
  {
   "cell_type": "markdown",
   "metadata": {},
   "source": [
    "## More Instance Methods\n",
    "So far, we've learned to customize how an instance is created using the special __init__ method. But that's just the beginning. We can define any method we'd like for a particular class to customize how instances of that class behave.\n",
    "\n",
    "Methods are very similar to functions, and we define them with the same syntax. The only difference is that methods are \"attached\" to instances, while functions aren't. We can use methods to run custom code that interacts with those instances.\n",
    "\n",
    "To use a method:\n",
    "\n",
    "- Define it in the code for the class.\n",
    "- Call it on an instance of that class."
   ]
  },
  {
   "cell_type": "code",
   "execution_count": 19,
   "metadata": {
    "collapsed": false
   },
   "outputs": [
    {
     "name": "stdout",
     "output_type": "stream",
     "text": [
      "Tampa Bay Buccaneers\n"
     ]
    }
   ],
   "source": [
    "import csv\n",
    "\n",
    "f = open(\"nfl.csv\", 'r')\n",
    "nfl = list(csv.reader(f))\n",
    "\n",
    "# The NFL data is loaded into the nfl variable.\n",
    "class Team():\n",
    "    def __init__(self, name):\n",
    "        self.name = name\n",
    "\n",
    "    def print_name(self):\n",
    "        print(self.name)\n",
    "        \n",
    "    # Your method goes here\n",
    "    def count_total_wins(self):\n",
    "        count_wins = 0\n",
    "        for row in nfl:\n",
    "            if row[4] == self.name:\n",
    "                count_wins = count_wins + 1\n",
    "        return count_wins\n",
    "    \n",
    "bucs = Team(\"Tampa Bay Buccaneers\")\n",
    "bucs.print_name()\n",
    "\n",
    "broncos = Team('Denver Broncos')\n",
    "broncos_wins = broncos.count_total_wins()\n",
    "\n",
    "chiefs = Team('Kansas City Chiefs')\n",
    "chiefs_wins = chiefs.count_total_wins()"
   ]
  },
  {
   "cell_type": "markdown",
   "metadata": {},
   "source": [
    "## Adding To The Init Function\n",
    "On the previous screen, we loaded the nfl variable outside of the Team class. However, this approach isn't ideal. The purpose of classes is to organize our code, and a big part of organizing code is abstraction. We don't want to have to worry about loading the data set into an nfl variable before using our class, and if we share our code with someone else, they shouldn't have to worry about it either.\n",
    "\n",
    "Instead of loading the file outside of our class, we should automatically load it whenever we create a new instance of our class, and store it as an instance property. We can do this by adding code to the class definition."
   ]
  },
  {
   "cell_type": "code",
   "execution_count": 20,
   "metadata": {
    "collapsed": true
   },
   "outputs": [],
   "source": [
    "class Team():\n",
    "    def __init__(self, name):\n",
    "        self.name = name\n",
    "        f = open(\"nfl.csv\", 'r')\n",
    "        csvreader = csv.reader(f)\n",
    "        self.nfl = list(csvreader)\n",
    "\n",
    "    def count_total_wins(self):\n",
    "        count = 0\n",
    "        for row in self.nfl:\n",
    "            if row[4] == self.name:\n",
    "                count = count + 1\n",
    "        return count\n",
    "\n",
    "jaguars = Team(\"Jacksonville Jaguars\")\n",
    "jaguars_wins = jaguars.count_total_wins()"
   ]
  },
  {
   "cell_type": "markdown",
   "metadata": {},
   "source": [
    "## Wins In A Year\n",
    "Let's add a count_wins_in_year method to the definition for our class. When you call this method on a Team instance, it should count and return the number of victories the team won during the year we passed in.\n",
    "\n",
    "We'll need to check for games that the given team won, and that took place during the given year. Recall that we can use the and keyword to test whether multiple conditions are true."
   ]
  },
  {
   "cell_type": "code",
   "execution_count": 24,
   "metadata": {
    "collapsed": true
   },
   "outputs": [],
   "source": [
    "class Team():\n",
    "    def __init__(self, name):\n",
    "        self.name = name\n",
    "        f = open(\"nfl.csv\", 'r')\n",
    "        csvreader = csv.reader(f)\n",
    "        self.nfl = list(csvreader)\n",
    "\n",
    "    def count_total_wins(self):\n",
    "        count = 0\n",
    "        for row in self.nfl:\n",
    "            if row[4] == self.name:\n",
    "                count = count + 1\n",
    "        return count\n",
    "\n",
    "    def count_wins_in_year(self, year):\n",
    "        count = 0\n",
    "        for row in self.nfl:\n",
    "            if row[4] == self.name and row[14] == year:\n",
    "                count += 1\n",
    "        return count\n",
    "\n",
    "niners = Team(\"San Francisco 49ers\")\n",
    "niners_wins_2013 = niners.count_wins_in_year(\"2013\")"
   ]
  },
  {
   "cell_type": "code",
   "execution_count": 25,
   "metadata": {
    "collapsed": false
   },
   "outputs": [
    {
     "name": "stdout",
     "output_type": "stream",
     "text": [
      "12\n"
     ]
    }
   ],
   "source": [
    "print(niners_wins_2013)"
   ]
  },
  {
   "cell_type": "markdown",
   "metadata": {},
   "source": [
    "## Conclusion\n",
    "If we wanted to count an NFL team's wins without using objects, we could write a count_total_wins function. But if we later decided to count wins for a particular year, we'd have to write an entirely new function, and pass the team's name for every function call. We'd also need to load in our nfl variable somewhere in the code. While all of this is possible, the code would lack structure and organization.\n",
    "\n",
    "With classes, we bundle all of that data and behavior together in one location. An instance of the Team class is all we need to count how many wins a team had in a given time period. Once we add behavior to a class, every instance of the class will be able to perform that behavior. As we develop our application, we can add more properties to classes to extend their functionality. Using classes and instances helps organize our code, and allows us to represent real-world concepts in well-defined code constructs."
   ]
  }
 ],
 "metadata": {
  "anaconda-cloud": {},
  "kernelspec": {
   "display_name": "Python [Root]",
   "language": "python",
   "name": "Python [Root]"
  },
  "language_info": {
   "codemirror_mode": {
    "name": "ipython",
    "version": 3
   },
   "file_extension": ".py",
   "mimetype": "text/x-python",
   "name": "python",
   "nbconvert_exporter": "python",
   "pygments_lexer": "ipython3",
   "version": "3.5.2"
  }
 },
 "nbformat": 4,
 "nbformat_minor": 0
}
