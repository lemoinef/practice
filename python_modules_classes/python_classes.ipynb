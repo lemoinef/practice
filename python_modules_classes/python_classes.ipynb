{
 "cells": [
  {
   "cell_type": "markdown",
   "metadata": {},
   "source": [
    "## NFL Data\n",
    "For this project, we'll be working with a data set containing the results of NFL games. The file includes every game from 2009-2013.\n",
    "\n",
    "Each row in our data set represents a game. The first column is for the year it took place, and the second is for the week of the season (out of 17 total weeks). The third column records the winning team, and the fourth records the losing team.\n",
    "\n",
    "## Introduction To Objects And Classes\n",
    "In the last mission, we learned how modules help us write clean and concise code. Python also has a number of other features that can organize and structure code.\n",
    "\n",
    "For example, it also supports objects. An object is a variable that has its own variables and behavior. Let's imagine we're writing an application for choosing and customizing cars. We need to represent cars in our code, and allow people to modify and interact with them. We could create a dictionary for each car, with keys like \"color\" and \"model\". However, this approach doesn't have any standardization regarding what information we should store about each car. Some cars may have a \"color\" key, while others may not. We need a consistent way to represent and interact with cars in our code. Objects can help us do this.\n",
    "\n",
    "Suppose we create an object called black_honda_accord. This object has variables like color, make, and model that help represent the car's attributes. We call these variables properties, and access them using dot notation.\n",
    "\n",
    "To create an object, we need some sort of template that tells us what properties the object should have. For example, black_honda_accord has color, make and model properties. If we want to create another car object that has this same behavior, we need a template.\n",
    "\n",
    "This is where classes come into play. A class is a template for new objects. So, if we have a Car class with color, make, and model properties, we can create many different instances of the Car class, and they will all have their own values for those properties. An instance is an object created from a template, or class. black_honda_accord is an instance of the Car class. If we wanted to create a red_toyota_camry instance, we could do so, and it would have its own color, make, and model values."
   ]
  },
  {
   "cell_type": "markdown",
   "metadata": {},
   "source": [
    "## Class Syntax\n",
    "Before we begin working with classes, let's take a look at how we define them. For a class called Car(), we'd use class Car(): to start a class definition. Inside the class, we define a special function called _ _init_ _ . This is where we define our properties.\n",
    "\n",
    "By assigning values to color, make, and model within _ _init_ _ , we indicate that we want our Car instances to have color, make, and model properties with the default values we specified. These values are appropriate for our black_honda_accord instance, but we'll have to customize them for our red_toyota_camry instance. We'll learn how to do that later in this mission.\n",
    "\n",
    "Inside our class definition, we refer to properties using self.property_name. For now, _ _init_ _ and self.property_name are just blocks of syntax you need to remember. As you progress through the mission, though, you'll learn what this syntax means, and why it's important.\n",
    "\n",
    "To create an instance of a class (in this case the Car class) we use black_honda_accord = Car(). To access the color of the instance black_honda_accord, we write black_honda_accord.color. In the following exercise, you'll use this syntax to define a class that will represent NFL teams. We'll interact with our NFL data set through this class for the duration of this mission."
   ]
  },
  {
   "cell_type": "code",
   "execution_count": 1,
   "metadata": {
    "collapsed": false
   },
   "outputs": [
    {
     "name": "stdout",
     "output_type": "stream",
     "text": [
      "black\n",
      "Tampa Bay Buccaneers\n"
     ]
    }
   ],
   "source": [
    "class Car():\n",
    "    def __init__(self):\n",
    "        self.color = \"black\"\n",
    "        self.make = \"honda\"\n",
    "        self.model = \"accord\"\n",
    "\n",
    "black_honda_accord = Car()\n",
    "\n",
    "print(black_honda_accord.color)\n",
    "class Team():\n",
    "    def __init__(self):\n",
    "        self.name = \"Tampa Bay Buccaneers\"\n",
    "\n",
    "bucs = Team()\n",
    "\n",
    "print(bucs.name)"
   ]
  },
  {
   "cell_type": "markdown",
   "metadata": {},
   "source": [
    "## Instance Methods And _ _init_ _\n",
    "In addition to properties, instances can also have behavior. We define this behavior using methods. We actually just did this on the last screen. _ _init_ _ is a special method that the Python interpreter automatically calls whenever we create an instance of a class.\n",
    "\n",
    "Recall that _ _ init _ _ takes in a self parameter. This parameter refers to the current instance, and allows us to access and add to its properties. self is passed in automatically when we call Team() (which calls _ _init_ _).\n",
    "\n",
    "We can add more parameters to _ _init_ _ , and pass them in explicitly when we call Team().\n",
    "\n",
    "We pass in the name parameter when we create an instance, and then that parameter becomes the team's name.\n",
    "\n",
    "In the Team exercise from the previous screen, for example, we set the name property to \"Tampa Bay Buccaneers\" for all new instances we create with some_team = Team().\n",
    "\n",
    "This time, let's add the name argument to our Team class's _ _init_ _ method in a way that allows us to create teams with any name."
   ]
  },
  {
   "cell_type": "code",
   "execution_count": 2,
   "metadata": {
    "collapsed": true
   },
   "outputs": [],
   "source": [
    "class Team():\n",
    "    def __init__(self, name):\n",
    "        self.name = name\n",
    "\n",
    "giants = Team(\"New York Giants\")"
   ]
  },
  {
   "cell_type": "markdown",
   "metadata": {},
   "source": [
    "## More Instance Methods\n",
    "So far, we've learned to customize how an instance is created using the special __init__ method. But that's just the beginning. We can define any method we'd like for a particular class to customize how instances of that class behave.\n",
    "\n",
    "Methods are very similar to functions, and we define them with the same syntax. The only difference is that methods are \"attached\" to instances, while functions aren't. We can use methods to run custom code that interacts with those instances.\n",
    "\n",
    "To use a method:\n",
    "\n",
    "- Define it in the code for the class.\n",
    "- Call it on an instance of that class."
   ]
  },
  {
   "cell_type": "code",
   "execution_count": null,
   "metadata": {
    "collapsed": true
   },
   "outputs": [],
   "source": []
  }
 ],
 "metadata": {
  "kernelspec": {
   "display_name": "Python [Root]",
   "language": "python",
   "name": "Python [Root]"
  },
  "language_info": {
   "codemirror_mode": {
    "name": "ipython",
    "version": 3
   },
   "file_extension": ".py",
   "mimetype": "text/x-python",
   "name": "python",
   "nbconvert_exporter": "python",
   "pygments_lexer": "ipython3",
   "version": "3.5.2"
  }
 },
 "nbformat": 4,
 "nbformat_minor": 0
}
